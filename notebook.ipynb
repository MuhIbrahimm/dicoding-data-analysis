{
  "cells": [
    {
      "cell_type": "markdown",
      "metadata": {
        "id": "H9wADwK78DCz"
      },
      "source": [
        "# Proyek Analisis Data: [Bike Sharing Dataset]\n",
        "- **Nama:** Muhammad Ibrahim\n",
        "- **Email:** baim21121994@gmail.com\n",
        "- **ID Dicoding:** muhammadibrahim"
      ]
    },
    {
      "cell_type": "markdown",
      "metadata": {
        "id": "eE0raob58DC0"
      },
      "source": [
        "## Menentukan Pertanyaan Bisnis"
      ]
    },
    {
      "cell_type": "markdown",
      "metadata": {
        "id": "GmQeQ5YF8DC0"
      },
      "source": [
        "- Bagaimana tren dari penyewaan sepeda setiap bulannya pada tahun 2012 dibandingkan dengan tahun 2011?\n",
        "- Apakah kecepatan angin mempengaruhi penyewaan sepeda pada tahun 2011?\n",
        "- Bagaimana perbandingan antara penyewaan sepeda di weekend dan weekday pada bulan Mei sampai September tahun 2012?"
      ]
    },
    {
      "cell_type": "markdown",
      "metadata": {
        "id": "H-z4QGlO8DC1"
      },
      "source": [
        "## Import Semua Packages/Library yang Digunakan"
      ]
    },
    {
      "cell_type": "code",
      "execution_count": 347,
      "metadata": {
        "id": "FVYwaObI8DC1"
      },
      "outputs": [],
      "source": [
        "import numpy as np\n",
        "import pandas as pd\n",
        "import seaborn as sns\n",
        "import matplotlib.pyplot as plt"
      ]
    },
    {
      "cell_type": "markdown",
      "metadata": {
        "id": "h_Sh51Xy8DC1"
      },
      "source": [
        "## Data Wrangling"
      ]
    },
    {
      "cell_type": "markdown",
      "metadata": {
        "id": "sXU2GBYu8DC1"
      },
      "source": [
        "### Gathering Data"
      ]
    },
    {
      "cell_type": "markdown",
      "metadata": {},
      "source": [
        "#### Menambahkan day.csv ke dalam DataFrame"
      ]
    },
    {
      "cell_type": "code",
      "execution_count": 348,
      "metadata": {
        "id": "zjCBk1BI8DC1"
      },
      "outputs": [
        {
          "data": {
            "text/html": [
              "<div>\n",
              "<style scoped>\n",
              "    .dataframe tbody tr th:only-of-type {\n",
              "        vertical-align: middle;\n",
              "    }\n",
              "\n",
              "    .dataframe tbody tr th {\n",
              "        vertical-align: top;\n",
              "    }\n",
              "\n",
              "    .dataframe thead th {\n",
              "        text-align: right;\n",
              "    }\n",
              "</style>\n",
              "<table border=\"1\" class=\"dataframe\">\n",
              "  <thead>\n",
              "    <tr style=\"text-align: right;\">\n",
              "      <th></th>\n",
              "      <th>instant</th>\n",
              "      <th>dteday</th>\n",
              "      <th>season</th>\n",
              "      <th>yr</th>\n",
              "      <th>mnth</th>\n",
              "      <th>holiday</th>\n",
              "      <th>weekday</th>\n",
              "      <th>workingday</th>\n",
              "      <th>weathersit</th>\n",
              "      <th>temp</th>\n",
              "      <th>atemp</th>\n",
              "      <th>hum</th>\n",
              "      <th>windspeed</th>\n",
              "      <th>casual</th>\n",
              "      <th>registered</th>\n",
              "      <th>cnt</th>\n",
              "    </tr>\n",
              "  </thead>\n",
              "  <tbody>\n",
              "    <tr>\n",
              "      <th>0</th>\n",
              "      <td>1</td>\n",
              "      <td>2011-01-01</td>\n",
              "      <td>1</td>\n",
              "      <td>0</td>\n",
              "      <td>1</td>\n",
              "      <td>0</td>\n",
              "      <td>6</td>\n",
              "      <td>0</td>\n",
              "      <td>2</td>\n",
              "      <td>0.344167</td>\n",
              "      <td>0.363625</td>\n",
              "      <td>0.805833</td>\n",
              "      <td>0.160446</td>\n",
              "      <td>331</td>\n",
              "      <td>654</td>\n",
              "      <td>985</td>\n",
              "    </tr>\n",
              "    <tr>\n",
              "      <th>1</th>\n",
              "      <td>2</td>\n",
              "      <td>2011-01-02</td>\n",
              "      <td>1</td>\n",
              "      <td>0</td>\n",
              "      <td>1</td>\n",
              "      <td>0</td>\n",
              "      <td>0</td>\n",
              "      <td>0</td>\n",
              "      <td>2</td>\n",
              "      <td>0.363478</td>\n",
              "      <td>0.353739</td>\n",
              "      <td>0.696087</td>\n",
              "      <td>0.248539</td>\n",
              "      <td>131</td>\n",
              "      <td>670</td>\n",
              "      <td>801</td>\n",
              "    </tr>\n",
              "    <tr>\n",
              "      <th>2</th>\n",
              "      <td>3</td>\n",
              "      <td>2011-01-03</td>\n",
              "      <td>1</td>\n",
              "      <td>0</td>\n",
              "      <td>1</td>\n",
              "      <td>0</td>\n",
              "      <td>1</td>\n",
              "      <td>1</td>\n",
              "      <td>1</td>\n",
              "      <td>0.196364</td>\n",
              "      <td>0.189405</td>\n",
              "      <td>0.437273</td>\n",
              "      <td>0.248309</td>\n",
              "      <td>120</td>\n",
              "      <td>1229</td>\n",
              "      <td>1349</td>\n",
              "    </tr>\n",
              "    <tr>\n",
              "      <th>3</th>\n",
              "      <td>4</td>\n",
              "      <td>2011-01-04</td>\n",
              "      <td>1</td>\n",
              "      <td>0</td>\n",
              "      <td>1</td>\n",
              "      <td>0</td>\n",
              "      <td>2</td>\n",
              "      <td>1</td>\n",
              "      <td>1</td>\n",
              "      <td>0.200000</td>\n",
              "      <td>0.212122</td>\n",
              "      <td>0.590435</td>\n",
              "      <td>0.160296</td>\n",
              "      <td>108</td>\n",
              "      <td>1454</td>\n",
              "      <td>1562</td>\n",
              "    </tr>\n",
              "    <tr>\n",
              "      <th>4</th>\n",
              "      <td>5</td>\n",
              "      <td>2011-01-05</td>\n",
              "      <td>1</td>\n",
              "      <td>0</td>\n",
              "      <td>1</td>\n",
              "      <td>0</td>\n",
              "      <td>3</td>\n",
              "      <td>1</td>\n",
              "      <td>1</td>\n",
              "      <td>0.226957</td>\n",
              "      <td>0.229270</td>\n",
              "      <td>0.436957</td>\n",
              "      <td>0.186900</td>\n",
              "      <td>82</td>\n",
              "      <td>1518</td>\n",
              "      <td>1600</td>\n",
              "    </tr>\n",
              "    <tr>\n",
              "      <th>...</th>\n",
              "      <td>...</td>\n",
              "      <td>...</td>\n",
              "      <td>...</td>\n",
              "      <td>...</td>\n",
              "      <td>...</td>\n",
              "      <td>...</td>\n",
              "      <td>...</td>\n",
              "      <td>...</td>\n",
              "      <td>...</td>\n",
              "      <td>...</td>\n",
              "      <td>...</td>\n",
              "      <td>...</td>\n",
              "      <td>...</td>\n",
              "      <td>...</td>\n",
              "      <td>...</td>\n",
              "      <td>...</td>\n",
              "    </tr>\n",
              "    <tr>\n",
              "      <th>365</th>\n",
              "      <td>366</td>\n",
              "      <td>2012-01-01</td>\n",
              "      <td>1</td>\n",
              "      <td>1</td>\n",
              "      <td>1</td>\n",
              "      <td>0</td>\n",
              "      <td>0</td>\n",
              "      <td>0</td>\n",
              "      <td>1</td>\n",
              "      <td>0.370000</td>\n",
              "      <td>0.375621</td>\n",
              "      <td>0.692500</td>\n",
              "      <td>0.192167</td>\n",
              "      <td>686</td>\n",
              "      <td>1608</td>\n",
              "      <td>2294</td>\n",
              "    </tr>\n",
              "    <tr>\n",
              "      <th>366</th>\n",
              "      <td>367</td>\n",
              "      <td>2012-01-02</td>\n",
              "      <td>1</td>\n",
              "      <td>1</td>\n",
              "      <td>1</td>\n",
              "      <td>1</td>\n",
              "      <td>1</td>\n",
              "      <td>0</td>\n",
              "      <td>1</td>\n",
              "      <td>0.273043</td>\n",
              "      <td>0.252304</td>\n",
              "      <td>0.381304</td>\n",
              "      <td>0.329665</td>\n",
              "      <td>244</td>\n",
              "      <td>1707</td>\n",
              "      <td>1951</td>\n",
              "    </tr>\n",
              "    <tr>\n",
              "      <th>367</th>\n",
              "      <td>368</td>\n",
              "      <td>2012-01-03</td>\n",
              "      <td>1</td>\n",
              "      <td>1</td>\n",
              "      <td>1</td>\n",
              "      <td>0</td>\n",
              "      <td>2</td>\n",
              "      <td>1</td>\n",
              "      <td>1</td>\n",
              "      <td>0.150000</td>\n",
              "      <td>0.126275</td>\n",
              "      <td>0.441250</td>\n",
              "      <td>0.365671</td>\n",
              "      <td>89</td>\n",
              "      <td>2147</td>\n",
              "      <td>2236</td>\n",
              "    </tr>\n",
              "    <tr>\n",
              "      <th>368</th>\n",
              "      <td>369</td>\n",
              "      <td>2012-01-04</td>\n",
              "      <td>1</td>\n",
              "      <td>1</td>\n",
              "      <td>1</td>\n",
              "      <td>0</td>\n",
              "      <td>3</td>\n",
              "      <td>1</td>\n",
              "      <td>2</td>\n",
              "      <td>0.107500</td>\n",
              "      <td>0.119337</td>\n",
              "      <td>0.414583</td>\n",
              "      <td>0.184700</td>\n",
              "      <td>95</td>\n",
              "      <td>2273</td>\n",
              "      <td>2368</td>\n",
              "    </tr>\n",
              "    <tr>\n",
              "      <th>369</th>\n",
              "      <td>370</td>\n",
              "      <td>2012-01-05</td>\n",
              "      <td>1</td>\n",
              "      <td>1</td>\n",
              "      <td>1</td>\n",
              "      <td>0</td>\n",
              "      <td>4</td>\n",
              "      <td>1</td>\n",
              "      <td>1</td>\n",
              "      <td>0.265833</td>\n",
              "      <td>0.278412</td>\n",
              "      <td>0.524167</td>\n",
              "      <td>0.129987</td>\n",
              "      <td>140</td>\n",
              "      <td>3132</td>\n",
              "      <td>3272</td>\n",
              "    </tr>\n",
              "  </tbody>\n",
              "</table>\n",
              "<p>370 rows × 16 columns</p>\n",
              "</div>"
            ],
            "text/plain": [
              "     instant      dteday  season  yr  mnth  holiday  weekday  workingday  \\\n",
              "0          1  2011-01-01       1   0     1        0        6           0   \n",
              "1          2  2011-01-02       1   0     1        0        0           0   \n",
              "2          3  2011-01-03       1   0     1        0        1           1   \n",
              "3          4  2011-01-04       1   0     1        0        2           1   \n",
              "4          5  2011-01-05       1   0     1        0        3           1   \n",
              "..       ...         ...     ...  ..   ...      ...      ...         ...   \n",
              "365      366  2012-01-01       1   1     1        0        0           0   \n",
              "366      367  2012-01-02       1   1     1        1        1           0   \n",
              "367      368  2012-01-03       1   1     1        0        2           1   \n",
              "368      369  2012-01-04       1   1     1        0        3           1   \n",
              "369      370  2012-01-05       1   1     1        0        4           1   \n",
              "\n",
              "     weathersit      temp     atemp       hum  windspeed  casual  registered  \\\n",
              "0             2  0.344167  0.363625  0.805833   0.160446     331         654   \n",
              "1             2  0.363478  0.353739  0.696087   0.248539     131         670   \n",
              "2             1  0.196364  0.189405  0.437273   0.248309     120        1229   \n",
              "3             1  0.200000  0.212122  0.590435   0.160296     108        1454   \n",
              "4             1  0.226957  0.229270  0.436957   0.186900      82        1518   \n",
              "..          ...       ...       ...       ...        ...     ...         ...   \n",
              "365           1  0.370000  0.375621  0.692500   0.192167     686        1608   \n",
              "366           1  0.273043  0.252304  0.381304   0.329665     244        1707   \n",
              "367           1  0.150000  0.126275  0.441250   0.365671      89        2147   \n",
              "368           2  0.107500  0.119337  0.414583   0.184700      95        2273   \n",
              "369           1  0.265833  0.278412  0.524167   0.129987     140        3132   \n",
              "\n",
              "      cnt  \n",
              "0     985  \n",
              "1     801  \n",
              "2    1349  \n",
              "3    1562  \n",
              "4    1600  \n",
              "..    ...  \n",
              "365  2294  \n",
              "366  1951  \n",
              "367  2236  \n",
              "368  2368  \n",
              "369  3272  \n",
              "\n",
              "[370 rows x 16 columns]"
            ]
          },
          "execution_count": 348,
          "metadata": {},
          "output_type": "execute_result"
        }
      ],
      "source": [
        "day_df = pd.read_csv(\"day.csv\")\n",
        "day_df.head(370)"
      ]
    },
    {
      "cell_type": "markdown",
      "metadata": {},
      "source": [
        "Saya hanya menggunakan dataset day.csv karena isi dari hour.csv tidak relevan dengan pertanyaan bisnis yang ada."
      ]
    },
    {
      "cell_type": "markdown",
      "metadata": {
        "id": "FHSiqaZp8DC1"
      },
      "source": [
        "### Assessing Data"
      ]
    },
    {
      "cell_type": "markdown",
      "metadata": {},
      "source": [
        "#### Memeriksa Tipe Data"
      ]
    },
    {
      "cell_type": "code",
      "execution_count": 349,
      "metadata": {
        "id": "ax-3tEjc9Cj1"
      },
      "outputs": [
        {
          "name": "stdout",
          "output_type": "stream",
          "text": [
            "<class 'pandas.core.frame.DataFrame'>\n",
            "RangeIndex: 731 entries, 0 to 730\n",
            "Data columns (total 16 columns):\n",
            " #   Column      Non-Null Count  Dtype  \n",
            "---  ------      --------------  -----  \n",
            " 0   instant     731 non-null    int64  \n",
            " 1   dteday      731 non-null    object \n",
            " 2   season      731 non-null    int64  \n",
            " 3   yr          731 non-null    int64  \n",
            " 4   mnth        731 non-null    int64  \n",
            " 5   holiday     731 non-null    int64  \n",
            " 6   weekday     731 non-null    int64  \n",
            " 7   workingday  731 non-null    int64  \n",
            " 8   weathersit  731 non-null    int64  \n",
            " 9   temp        731 non-null    float64\n",
            " 10  atemp       731 non-null    float64\n",
            " 11  hum         731 non-null    float64\n",
            " 12  windspeed   731 non-null    float64\n",
            " 13  casual      731 non-null    int64  \n",
            " 14  registered  731 non-null    int64  \n",
            " 15  cnt         731 non-null    int64  \n",
            "dtypes: float64(4), int64(11), object(1)\n",
            "memory usage: 91.5+ KB\n"
          ]
        }
      ],
      "source": [
        "day_df.info()"
      ]
    },
    {
      "cell_type": "markdown",
      "metadata": {},
      "source": [
        "Dalam output tersebut diketahui jika kolom dteday yang memuat tanggal memiliki tipe data object, padahal seharusnya menggunakan tipe data datetime."
      ]
    },
    {
      "cell_type": "markdown",
      "metadata": {},
      "source": [
        "#### Memeriksa Data Null"
      ]
    },
    {
      "cell_type": "code",
      "execution_count": 350,
      "metadata": {},
      "outputs": [
        {
          "data": {
            "text/plain": [
              "instant       0\n",
              "dteday        0\n",
              "season        0\n",
              "yr            0\n",
              "mnth          0\n",
              "holiday       0\n",
              "weekday       0\n",
              "workingday    0\n",
              "weathersit    0\n",
              "temp          0\n",
              "atemp         0\n",
              "hum           0\n",
              "windspeed     0\n",
              "casual        0\n",
              "registered    0\n",
              "cnt           0\n",
              "dtype: int64"
            ]
          },
          "execution_count": 350,
          "metadata": {},
          "output_type": "execute_result"
        }
      ],
      "source": [
        "day_df.isna().sum()"
      ]
    },
    {
      "cell_type": "markdown",
      "metadata": {},
      "source": [
        "#### Memeriksa Data Duplikat"
      ]
    },
    {
      "cell_type": "code",
      "execution_count": 351,
      "metadata": {},
      "outputs": [
        {
          "name": "stdout",
          "output_type": "stream",
          "text": [
            "Jumlah duplikasi:  0\n"
          ]
        }
      ],
      "source": [
        "print(\"Jumlah duplikasi: \", day_df.duplicated().sum())"
      ]
    },
    {
      "cell_type": "markdown",
      "metadata": {},
      "source": [
        "#### Rangkuman Parameter Statistik"
      ]
    },
    {
      "cell_type": "code",
      "execution_count": 352,
      "metadata": {},
      "outputs": [
        {
          "data": {
            "text/html": [
              "<div>\n",
              "<style scoped>\n",
              "    .dataframe tbody tr th:only-of-type {\n",
              "        vertical-align: middle;\n",
              "    }\n",
              "\n",
              "    .dataframe tbody tr th {\n",
              "        vertical-align: top;\n",
              "    }\n",
              "\n",
              "    .dataframe thead th {\n",
              "        text-align: right;\n",
              "    }\n",
              "</style>\n",
              "<table border=\"1\" class=\"dataframe\">\n",
              "  <thead>\n",
              "    <tr style=\"text-align: right;\">\n",
              "      <th></th>\n",
              "      <th>instant</th>\n",
              "      <th>season</th>\n",
              "      <th>yr</th>\n",
              "      <th>mnth</th>\n",
              "      <th>holiday</th>\n",
              "      <th>weekday</th>\n",
              "      <th>workingday</th>\n",
              "      <th>weathersit</th>\n",
              "      <th>temp</th>\n",
              "      <th>atemp</th>\n",
              "      <th>hum</th>\n",
              "      <th>windspeed</th>\n",
              "      <th>casual</th>\n",
              "      <th>registered</th>\n",
              "      <th>cnt</th>\n",
              "    </tr>\n",
              "  </thead>\n",
              "  <tbody>\n",
              "    <tr>\n",
              "      <th>count</th>\n",
              "      <td>731.000000</td>\n",
              "      <td>731.000000</td>\n",
              "      <td>731.000000</td>\n",
              "      <td>731.000000</td>\n",
              "      <td>731.000000</td>\n",
              "      <td>731.000000</td>\n",
              "      <td>731.000000</td>\n",
              "      <td>731.000000</td>\n",
              "      <td>731.000000</td>\n",
              "      <td>731.000000</td>\n",
              "      <td>731.000000</td>\n",
              "      <td>731.000000</td>\n",
              "      <td>731.000000</td>\n",
              "      <td>731.000000</td>\n",
              "      <td>731.000000</td>\n",
              "    </tr>\n",
              "    <tr>\n",
              "      <th>mean</th>\n",
              "      <td>366.000000</td>\n",
              "      <td>2.496580</td>\n",
              "      <td>0.500684</td>\n",
              "      <td>6.519836</td>\n",
              "      <td>0.028728</td>\n",
              "      <td>2.997264</td>\n",
              "      <td>0.683995</td>\n",
              "      <td>1.395349</td>\n",
              "      <td>0.495385</td>\n",
              "      <td>0.474354</td>\n",
              "      <td>0.627894</td>\n",
              "      <td>0.190486</td>\n",
              "      <td>848.176471</td>\n",
              "      <td>3656.172367</td>\n",
              "      <td>4504.348837</td>\n",
              "    </tr>\n",
              "    <tr>\n",
              "      <th>std</th>\n",
              "      <td>211.165812</td>\n",
              "      <td>1.110807</td>\n",
              "      <td>0.500342</td>\n",
              "      <td>3.451913</td>\n",
              "      <td>0.167155</td>\n",
              "      <td>2.004787</td>\n",
              "      <td>0.465233</td>\n",
              "      <td>0.544894</td>\n",
              "      <td>0.183051</td>\n",
              "      <td>0.162961</td>\n",
              "      <td>0.142429</td>\n",
              "      <td>0.077498</td>\n",
              "      <td>686.622488</td>\n",
              "      <td>1560.256377</td>\n",
              "      <td>1937.211452</td>\n",
              "    </tr>\n",
              "    <tr>\n",
              "      <th>min</th>\n",
              "      <td>1.000000</td>\n",
              "      <td>1.000000</td>\n",
              "      <td>0.000000</td>\n",
              "      <td>1.000000</td>\n",
              "      <td>0.000000</td>\n",
              "      <td>0.000000</td>\n",
              "      <td>0.000000</td>\n",
              "      <td>1.000000</td>\n",
              "      <td>0.059130</td>\n",
              "      <td>0.079070</td>\n",
              "      <td>0.000000</td>\n",
              "      <td>0.022392</td>\n",
              "      <td>2.000000</td>\n",
              "      <td>20.000000</td>\n",
              "      <td>22.000000</td>\n",
              "    </tr>\n",
              "    <tr>\n",
              "      <th>25%</th>\n",
              "      <td>183.500000</td>\n",
              "      <td>2.000000</td>\n",
              "      <td>0.000000</td>\n",
              "      <td>4.000000</td>\n",
              "      <td>0.000000</td>\n",
              "      <td>1.000000</td>\n",
              "      <td>0.000000</td>\n",
              "      <td>1.000000</td>\n",
              "      <td>0.337083</td>\n",
              "      <td>0.337842</td>\n",
              "      <td>0.520000</td>\n",
              "      <td>0.134950</td>\n",
              "      <td>315.500000</td>\n",
              "      <td>2497.000000</td>\n",
              "      <td>3152.000000</td>\n",
              "    </tr>\n",
              "    <tr>\n",
              "      <th>50%</th>\n",
              "      <td>366.000000</td>\n",
              "      <td>3.000000</td>\n",
              "      <td>1.000000</td>\n",
              "      <td>7.000000</td>\n",
              "      <td>0.000000</td>\n",
              "      <td>3.000000</td>\n",
              "      <td>1.000000</td>\n",
              "      <td>1.000000</td>\n",
              "      <td>0.498333</td>\n",
              "      <td>0.486733</td>\n",
              "      <td>0.626667</td>\n",
              "      <td>0.180975</td>\n",
              "      <td>713.000000</td>\n",
              "      <td>3662.000000</td>\n",
              "      <td>4548.000000</td>\n",
              "    </tr>\n",
              "    <tr>\n",
              "      <th>75%</th>\n",
              "      <td>548.500000</td>\n",
              "      <td>3.000000</td>\n",
              "      <td>1.000000</td>\n",
              "      <td>10.000000</td>\n",
              "      <td>0.000000</td>\n",
              "      <td>5.000000</td>\n",
              "      <td>1.000000</td>\n",
              "      <td>2.000000</td>\n",
              "      <td>0.655417</td>\n",
              "      <td>0.608602</td>\n",
              "      <td>0.730209</td>\n",
              "      <td>0.233214</td>\n",
              "      <td>1096.000000</td>\n",
              "      <td>4776.500000</td>\n",
              "      <td>5956.000000</td>\n",
              "    </tr>\n",
              "    <tr>\n",
              "      <th>max</th>\n",
              "      <td>731.000000</td>\n",
              "      <td>4.000000</td>\n",
              "      <td>1.000000</td>\n",
              "      <td>12.000000</td>\n",
              "      <td>1.000000</td>\n",
              "      <td>6.000000</td>\n",
              "      <td>1.000000</td>\n",
              "      <td>3.000000</td>\n",
              "      <td>0.861667</td>\n",
              "      <td>0.840896</td>\n",
              "      <td>0.972500</td>\n",
              "      <td>0.507463</td>\n",
              "      <td>3410.000000</td>\n",
              "      <td>6946.000000</td>\n",
              "      <td>8714.000000</td>\n",
              "    </tr>\n",
              "  </tbody>\n",
              "</table>\n",
              "</div>"
            ],
            "text/plain": [
              "          instant      season          yr        mnth     holiday     weekday  \\\n",
              "count  731.000000  731.000000  731.000000  731.000000  731.000000  731.000000   \n",
              "mean   366.000000    2.496580    0.500684    6.519836    0.028728    2.997264   \n",
              "std    211.165812    1.110807    0.500342    3.451913    0.167155    2.004787   \n",
              "min      1.000000    1.000000    0.000000    1.000000    0.000000    0.000000   \n",
              "25%    183.500000    2.000000    0.000000    4.000000    0.000000    1.000000   \n",
              "50%    366.000000    3.000000    1.000000    7.000000    0.000000    3.000000   \n",
              "75%    548.500000    3.000000    1.000000   10.000000    0.000000    5.000000   \n",
              "max    731.000000    4.000000    1.000000   12.000000    1.000000    6.000000   \n",
              "\n",
              "       workingday  weathersit        temp       atemp         hum   windspeed  \\\n",
              "count  731.000000  731.000000  731.000000  731.000000  731.000000  731.000000   \n",
              "mean     0.683995    1.395349    0.495385    0.474354    0.627894    0.190486   \n",
              "std      0.465233    0.544894    0.183051    0.162961    0.142429    0.077498   \n",
              "min      0.000000    1.000000    0.059130    0.079070    0.000000    0.022392   \n",
              "25%      0.000000    1.000000    0.337083    0.337842    0.520000    0.134950   \n",
              "50%      1.000000    1.000000    0.498333    0.486733    0.626667    0.180975   \n",
              "75%      1.000000    2.000000    0.655417    0.608602    0.730209    0.233214   \n",
              "max      1.000000    3.000000    0.861667    0.840896    0.972500    0.507463   \n",
              "\n",
              "            casual   registered          cnt  \n",
              "count   731.000000   731.000000   731.000000  \n",
              "mean    848.176471  3656.172367  4504.348837  \n",
              "std     686.622488  1560.256377  1937.211452  \n",
              "min       2.000000    20.000000    22.000000  \n",
              "25%     315.500000  2497.000000  3152.000000  \n",
              "50%     713.000000  3662.000000  4548.000000  \n",
              "75%    1096.000000  4776.500000  5956.000000  \n",
              "max    3410.000000  6946.000000  8714.000000  "
            ]
          },
          "execution_count": 352,
          "metadata": {},
          "output_type": "execute_result"
        }
      ],
      "source": [
        "day_df.describe()"
      ]
    },
    {
      "cell_type": "markdown",
      "metadata": {
        "id": "EhN5R4hr8DC1"
      },
      "source": [
        "### Cleaning Data"
      ]
    },
    {
      "cell_type": "markdown",
      "metadata": {},
      "source": [
        "#### Menghapus Kolom yang Tidak diperlukan"
      ]
    },
    {
      "cell_type": "code",
      "execution_count": 353,
      "metadata": {
        "id": "jVnYpprE9Evz"
      },
      "outputs": [
        {
          "data": {
            "text/html": [
              "<div>\n",
              "<style scoped>\n",
              "    .dataframe tbody tr th:only-of-type {\n",
              "        vertical-align: middle;\n",
              "    }\n",
              "\n",
              "    .dataframe tbody tr th {\n",
              "        vertical-align: top;\n",
              "    }\n",
              "\n",
              "    .dataframe thead th {\n",
              "        text-align: right;\n",
              "    }\n",
              "</style>\n",
              "<table border=\"1\" class=\"dataframe\">\n",
              "  <thead>\n",
              "    <tr style=\"text-align: right;\">\n",
              "      <th></th>\n",
              "      <th>dteday</th>\n",
              "      <th>yr</th>\n",
              "      <th>mnth</th>\n",
              "      <th>weekday</th>\n",
              "      <th>windspeed</th>\n",
              "      <th>cnt</th>\n",
              "    </tr>\n",
              "  </thead>\n",
              "  <tbody>\n",
              "    <tr>\n",
              "      <th>0</th>\n",
              "      <td>2011-01-01</td>\n",
              "      <td>0</td>\n",
              "      <td>1</td>\n",
              "      <td>6</td>\n",
              "      <td>0.160446</td>\n",
              "      <td>985</td>\n",
              "    </tr>\n",
              "    <tr>\n",
              "      <th>1</th>\n",
              "      <td>2011-01-02</td>\n",
              "      <td>0</td>\n",
              "      <td>1</td>\n",
              "      <td>0</td>\n",
              "      <td>0.248539</td>\n",
              "      <td>801</td>\n",
              "    </tr>\n",
              "    <tr>\n",
              "      <th>2</th>\n",
              "      <td>2011-01-03</td>\n",
              "      <td>0</td>\n",
              "      <td>1</td>\n",
              "      <td>1</td>\n",
              "      <td>0.248309</td>\n",
              "      <td>1349</td>\n",
              "    </tr>\n",
              "    <tr>\n",
              "      <th>3</th>\n",
              "      <td>2011-01-04</td>\n",
              "      <td>0</td>\n",
              "      <td>1</td>\n",
              "      <td>2</td>\n",
              "      <td>0.160296</td>\n",
              "      <td>1562</td>\n",
              "    </tr>\n",
              "    <tr>\n",
              "      <th>4</th>\n",
              "      <td>2011-01-05</td>\n",
              "      <td>0</td>\n",
              "      <td>1</td>\n",
              "      <td>3</td>\n",
              "      <td>0.186900</td>\n",
              "      <td>1600</td>\n",
              "    </tr>\n",
              "  </tbody>\n",
              "</table>\n",
              "</div>"
            ],
            "text/plain": [
              "       dteday  yr  mnth  weekday  windspeed   cnt\n",
              "0  2011-01-01   0     1        6   0.160446   985\n",
              "1  2011-01-02   0     1        0   0.248539   801\n",
              "2  2011-01-03   0     1        1   0.248309  1349\n",
              "3  2011-01-04   0     1        2   0.160296  1562\n",
              "4  2011-01-05   0     1        3   0.186900  1600"
            ]
          },
          "execution_count": 353,
          "metadata": {},
          "output_type": "execute_result"
        }
      ],
      "source": [
        "drop_col = ['instant', 'season', 'holiday', 'workingday', 'weathersit', 'temp', 'atemp', 'hum', 'casual', 'registered']\n",
        "\n",
        "for i in day_df.columns:\n",
        "  if i in drop_col:\n",
        "    day_df.drop(labels=i, axis=1, inplace=True)\n",
        "\n",
        "day_df.head()"
      ]
    },
    {
      "cell_type": "markdown",
      "metadata": {},
      "source": [
        "Alasan dihapusnya beberapa kolom tersebut karena tidak relevannya kolom tersebut dengan pertanyaan bisnis"
      ]
    },
    {
      "cell_type": "markdown",
      "metadata": {},
      "source": [
        "#### Mengubah Nama, Isi, dan Tipe Data Kolom"
      ]
    },
    {
      "cell_type": "code",
      "execution_count": 354,
      "metadata": {},
      "outputs": [
        {
          "data": {
            "text/html": [
              "<div>\n",
              "<style scoped>\n",
              "    .dataframe tbody tr th:only-of-type {\n",
              "        vertical-align: middle;\n",
              "    }\n",
              "\n",
              "    .dataframe tbody tr th {\n",
              "        vertical-align: top;\n",
              "    }\n",
              "\n",
              "    .dataframe thead th {\n",
              "        text-align: right;\n",
              "    }\n",
              "</style>\n",
              "<table border=\"1\" class=\"dataframe\">\n",
              "  <thead>\n",
              "    <tr style=\"text-align: right;\">\n",
              "      <th></th>\n",
              "      <th>dateday</th>\n",
              "      <th>year</th>\n",
              "      <th>month</th>\n",
              "      <th>weekday</th>\n",
              "      <th>windspeed</th>\n",
              "      <th>count</th>\n",
              "    </tr>\n",
              "  </thead>\n",
              "  <tbody>\n",
              "    <tr>\n",
              "      <th>0</th>\n",
              "      <td>2011-01-01</td>\n",
              "      <td>0</td>\n",
              "      <td>1</td>\n",
              "      <td>6</td>\n",
              "      <td>0.160446</td>\n",
              "      <td>985</td>\n",
              "    </tr>\n",
              "    <tr>\n",
              "      <th>1</th>\n",
              "      <td>2011-01-02</td>\n",
              "      <td>0</td>\n",
              "      <td>1</td>\n",
              "      <td>0</td>\n",
              "      <td>0.248539</td>\n",
              "      <td>801</td>\n",
              "    </tr>\n",
              "    <tr>\n",
              "      <th>2</th>\n",
              "      <td>2011-01-03</td>\n",
              "      <td>0</td>\n",
              "      <td>1</td>\n",
              "      <td>1</td>\n",
              "      <td>0.248309</td>\n",
              "      <td>1349</td>\n",
              "    </tr>\n",
              "    <tr>\n",
              "      <th>3</th>\n",
              "      <td>2011-01-04</td>\n",
              "      <td>0</td>\n",
              "      <td>1</td>\n",
              "      <td>2</td>\n",
              "      <td>0.160296</td>\n",
              "      <td>1562</td>\n",
              "    </tr>\n",
              "    <tr>\n",
              "      <th>4</th>\n",
              "      <td>2011-01-05</td>\n",
              "      <td>0</td>\n",
              "      <td>1</td>\n",
              "      <td>3</td>\n",
              "      <td>0.186900</td>\n",
              "      <td>1600</td>\n",
              "    </tr>\n",
              "  </tbody>\n",
              "</table>\n",
              "</div>"
            ],
            "text/plain": [
              "      dateday  year  month  weekday  windspeed  count\n",
              "0  2011-01-01     0      1        6   0.160446    985\n",
              "1  2011-01-02     0      1        0   0.248539    801\n",
              "2  2011-01-03     0      1        1   0.248309   1349\n",
              "3  2011-01-04     0      1        2   0.160296   1562\n",
              "4  2011-01-05     0      1        3   0.186900   1600"
            ]
          },
          "execution_count": 354,
          "metadata": {},
          "output_type": "execute_result"
        }
      ],
      "source": [
        "day_df.rename(columns={\n",
        "    'dteday': 'dateday',\n",
        "    'yr': 'year',\n",
        "    'mnth': 'month',\n",
        "    'cnt': 'count'\n",
        "}, inplace=True)\n",
        "\n",
        "day_df.head()"
      ]
    },
    {
      "cell_type": "markdown",
      "metadata": {},
      "source": [
        "Hal ini dilakukan agar lebih mudah dalam membaca sehingga lebih mudah dipahami"
      ]
    },
    {
      "cell_type": "code",
      "execution_count": 355,
      "metadata": {},
      "outputs": [
        {
          "name": "stdout",
          "output_type": "stream",
          "text": [
            "<class 'pandas.core.frame.DataFrame'>\n",
            "RangeIndex: 731 entries, 0 to 730\n",
            "Data columns (total 6 columns):\n",
            " #   Column     Non-Null Count  Dtype         \n",
            "---  ------     --------------  -----         \n",
            " 0   dateday    731 non-null    datetime64[ns]\n",
            " 1   year       731 non-null    category      \n",
            " 2   month      731 non-null    category      \n",
            " 3   weekday    731 non-null    category      \n",
            " 4   windspeed  731 non-null    float64       \n",
            " 5   count      731 non-null    int64         \n",
            "dtypes: category(3), datetime64[ns](1), float64(1), int64(1)\n",
            "memory usage: 20.3 KB\n"
          ]
        }
      ],
      "source": [
        "day_df['dateday'] = pd.to_datetime(day_df.dateday)\n",
        "\n",
        "day_df['year'] = day_df.year.astype('category')\n",
        "day_df['month'] = day_df.month.astype('category')\n",
        "day_df['weekday'] = day_df.weekday.astype('category')\n",
        "\n",
        "day_df.info()"
      ]
    },
    {
      "cell_type": "markdown",
      "metadata": {},
      "source": [
        "Hal ini dilakukan karen kolom tersebut lebih cocok memiliki tipe data datetime dan juga category"
      ]
    },
    {
      "cell_type": "code",
      "execution_count": 356,
      "metadata": {},
      "outputs": [
        {
          "data": {
            "text/html": [
              "<div>\n",
              "<style scoped>\n",
              "    .dataframe tbody tr th:only-of-type {\n",
              "        vertical-align: middle;\n",
              "    }\n",
              "\n",
              "    .dataframe tbody tr th {\n",
              "        vertical-align: top;\n",
              "    }\n",
              "\n",
              "    .dataframe thead th {\n",
              "        text-align: right;\n",
              "    }\n",
              "</style>\n",
              "<table border=\"1\" class=\"dataframe\">\n",
              "  <thead>\n",
              "    <tr style=\"text-align: right;\">\n",
              "      <th></th>\n",
              "      <th>dateday</th>\n",
              "      <th>year</th>\n",
              "      <th>month</th>\n",
              "      <th>weekday</th>\n",
              "      <th>windspeed</th>\n",
              "      <th>count</th>\n",
              "    </tr>\n",
              "  </thead>\n",
              "  <tbody>\n",
              "    <tr>\n",
              "      <th>0</th>\n",
              "      <td>2011-01-01</td>\n",
              "      <td>2011</td>\n",
              "      <td>Jan</td>\n",
              "      <td>weekend</td>\n",
              "      <td>0.160446</td>\n",
              "      <td>985</td>\n",
              "    </tr>\n",
              "    <tr>\n",
              "      <th>1</th>\n",
              "      <td>2011-01-02</td>\n",
              "      <td>2011</td>\n",
              "      <td>Jan</td>\n",
              "      <td>weekend</td>\n",
              "      <td>0.248539</td>\n",
              "      <td>801</td>\n",
              "    </tr>\n",
              "    <tr>\n",
              "      <th>2</th>\n",
              "      <td>2011-01-03</td>\n",
              "      <td>2011</td>\n",
              "      <td>Jan</td>\n",
              "      <td>weekday</td>\n",
              "      <td>0.248309</td>\n",
              "      <td>1349</td>\n",
              "    </tr>\n",
              "    <tr>\n",
              "      <th>3</th>\n",
              "      <td>2011-01-04</td>\n",
              "      <td>2011</td>\n",
              "      <td>Jan</td>\n",
              "      <td>weekday</td>\n",
              "      <td>0.160296</td>\n",
              "      <td>1562</td>\n",
              "    </tr>\n",
              "    <tr>\n",
              "      <th>4</th>\n",
              "      <td>2011-01-05</td>\n",
              "      <td>2011</td>\n",
              "      <td>Jan</td>\n",
              "      <td>weekday</td>\n",
              "      <td>0.186900</td>\n",
              "      <td>1600</td>\n",
              "    </tr>\n",
              "  </tbody>\n",
              "</table>\n",
              "</div>"
            ],
            "text/plain": [
              "     dateday  year month  weekday  windspeed  count\n",
              "0 2011-01-01  2011   Jan  weekend   0.160446    985\n",
              "1 2011-01-02  2011   Jan  weekend   0.248539    801\n",
              "2 2011-01-03  2011   Jan  weekday   0.248309   1349\n",
              "3 2011-01-04  2011   Jan  weekday   0.160296   1562\n",
              "4 2011-01-05  2011   Jan  weekday   0.186900   1600"
            ]
          },
          "execution_count": 356,
          "metadata": {},
          "output_type": "execute_result"
        }
      ],
      "source": [
        "day_df['year'] = day_df['year'].map({\n",
        "    0: '2011',\n",
        "    1: '2012',\n",
        "})\n",
        "\n",
        "day_df['month'] = day_df['month'].map({\n",
        "    1: 'Jan', 2: 'Feb', 3: 'Mar', 4: 'Apr', 5: 'May', 6: 'Jun',\n",
        "    7: 'Jul', 8: 'Aug', 9: 'Sep', 10: 'Oct', 11: 'Nov', 12: 'Dec'\n",
        "})\n",
        "\n",
        "day_df['weekday'] = day_df['weekday'].map({\n",
        "    0: 'weekend',  # Sunday\n",
        "    1: 'weekday',  # Monday\n",
        "    2: 'weekday',  # Tuesday\n",
        "    3: 'weekday',  # Wednesday\n",
        "    4: 'weekday',  # Thursday\n",
        "    5: 'weekday',  # Friday\n",
        "    6: 'weekend'   # Saturday\n",
        "})\n",
        "\n",
        "day_df.head()"
      ]
    },
    {
      "cell_type": "markdown",
      "metadata": {},
      "source": [
        "Hal tersebut dilakukan agar data lebih mudah dibaca sehingga mudah dipahami"
      ]
    },
    {
      "cell_type": "markdown",
      "metadata": {
        "id": "gp-Y6wU38DC1"
      },
      "source": [
        "## Exploratory Data Analysis (EDA)"
      ]
    },
    {
      "cell_type": "markdown",
      "metadata": {
        "id": "MW7WF2kr8DC1"
      },
      "source": [
        "### Explorasi Pertanyaan 1"
      ]
    },
    {
      "cell_type": "markdown",
      "metadata": {},
      "source": [
        "#### Membuat DataFrame Penyewa pada Tahun 2012 dan 2011"
      ]
    },
    {
      "cell_type": "code",
      "execution_count": 357,
      "metadata": {},
      "outputs": [
        {
          "data": {
            "text/html": [
              "<div>\n",
              "<style scoped>\n",
              "    .dataframe tbody tr th:only-of-type {\n",
              "        vertical-align: middle;\n",
              "    }\n",
              "\n",
              "    .dataframe tbody tr th {\n",
              "        vertical-align: top;\n",
              "    }\n",
              "\n",
              "    .dataframe thead th {\n",
              "        text-align: right;\n",
              "    }\n",
              "</style>\n",
              "<table border=\"1\" class=\"dataframe\">\n",
              "  <thead>\n",
              "    <tr style=\"text-align: right;\">\n",
              "      <th></th>\n",
              "      <th>dateday</th>\n",
              "      <th>year</th>\n",
              "      <th>month</th>\n",
              "      <th>weekday</th>\n",
              "      <th>windspeed</th>\n",
              "      <th>count</th>\n",
              "    </tr>\n",
              "  </thead>\n",
              "  <tbody>\n",
              "    <tr>\n",
              "      <th>365</th>\n",
              "      <td>2012-01-01</td>\n",
              "      <td>2012</td>\n",
              "      <td>Jan</td>\n",
              "      <td>weekend</td>\n",
              "      <td>0.192167</td>\n",
              "      <td>2294</td>\n",
              "    </tr>\n",
              "    <tr>\n",
              "      <th>366</th>\n",
              "      <td>2012-01-02</td>\n",
              "      <td>2012</td>\n",
              "      <td>Jan</td>\n",
              "      <td>weekday</td>\n",
              "      <td>0.329665</td>\n",
              "      <td>1951</td>\n",
              "    </tr>\n",
              "    <tr>\n",
              "      <th>367</th>\n",
              "      <td>2012-01-03</td>\n",
              "      <td>2012</td>\n",
              "      <td>Jan</td>\n",
              "      <td>weekday</td>\n",
              "      <td>0.365671</td>\n",
              "      <td>2236</td>\n",
              "    </tr>\n",
              "    <tr>\n",
              "      <th>368</th>\n",
              "      <td>2012-01-04</td>\n",
              "      <td>2012</td>\n",
              "      <td>Jan</td>\n",
              "      <td>weekday</td>\n",
              "      <td>0.184700</td>\n",
              "      <td>2368</td>\n",
              "    </tr>\n",
              "    <tr>\n",
              "      <th>369</th>\n",
              "      <td>2012-01-05</td>\n",
              "      <td>2012</td>\n",
              "      <td>Jan</td>\n",
              "      <td>weekday</td>\n",
              "      <td>0.129987</td>\n",
              "      <td>3272</td>\n",
              "    </tr>\n",
              "  </tbody>\n",
              "</table>\n",
              "</div>"
            ],
            "text/plain": [
              "       dateday  year month  weekday  windspeed  count\n",
              "365 2012-01-01  2012   Jan  weekend   0.192167   2294\n",
              "366 2012-01-02  2012   Jan  weekday   0.329665   1951\n",
              "367 2012-01-03  2012   Jan  weekday   0.365671   2236\n",
              "368 2012-01-04  2012   Jan  weekday   0.184700   2368\n",
              "369 2012-01-05  2012   Jan  weekday   0.129987   3272"
            ]
          },
          "execution_count": 357,
          "metadata": {},
          "output_type": "execute_result"
        }
      ],
      "source": [
        "df_2012 = day_df[day_df['year'] == '2012']\n",
        "df_2012.head()"
      ]
    },
    {
      "cell_type": "code",
      "execution_count": 358,
      "metadata": {},
      "outputs": [
        {
          "data": {
            "text/html": [
              "<div>\n",
              "<style scoped>\n",
              "    .dataframe tbody tr th:only-of-type {\n",
              "        vertical-align: middle;\n",
              "    }\n",
              "\n",
              "    .dataframe tbody tr th {\n",
              "        vertical-align: top;\n",
              "    }\n",
              "\n",
              "    .dataframe thead th {\n",
              "        text-align: right;\n",
              "    }\n",
              "</style>\n",
              "<table border=\"1\" class=\"dataframe\">\n",
              "  <thead>\n",
              "    <tr style=\"text-align: right;\">\n",
              "      <th></th>\n",
              "      <th>dateday</th>\n",
              "      <th>year</th>\n",
              "      <th>month</th>\n",
              "      <th>weekday</th>\n",
              "      <th>windspeed</th>\n",
              "      <th>count</th>\n",
              "    </tr>\n",
              "  </thead>\n",
              "  <tbody>\n",
              "    <tr>\n",
              "      <th>0</th>\n",
              "      <td>2011-01-01</td>\n",
              "      <td>2011</td>\n",
              "      <td>Jan</td>\n",
              "      <td>weekend</td>\n",
              "      <td>0.160446</td>\n",
              "      <td>985</td>\n",
              "    </tr>\n",
              "    <tr>\n",
              "      <th>1</th>\n",
              "      <td>2011-01-02</td>\n",
              "      <td>2011</td>\n",
              "      <td>Jan</td>\n",
              "      <td>weekend</td>\n",
              "      <td>0.248539</td>\n",
              "      <td>801</td>\n",
              "    </tr>\n",
              "    <tr>\n",
              "      <th>2</th>\n",
              "      <td>2011-01-03</td>\n",
              "      <td>2011</td>\n",
              "      <td>Jan</td>\n",
              "      <td>weekday</td>\n",
              "      <td>0.248309</td>\n",
              "      <td>1349</td>\n",
              "    </tr>\n",
              "    <tr>\n",
              "      <th>3</th>\n",
              "      <td>2011-01-04</td>\n",
              "      <td>2011</td>\n",
              "      <td>Jan</td>\n",
              "      <td>weekday</td>\n",
              "      <td>0.160296</td>\n",
              "      <td>1562</td>\n",
              "    </tr>\n",
              "    <tr>\n",
              "      <th>4</th>\n",
              "      <td>2011-01-05</td>\n",
              "      <td>2011</td>\n",
              "      <td>Jan</td>\n",
              "      <td>weekday</td>\n",
              "      <td>0.186900</td>\n",
              "      <td>1600</td>\n",
              "    </tr>\n",
              "  </tbody>\n",
              "</table>\n",
              "</div>"
            ],
            "text/plain": [
              "     dateday  year month  weekday  windspeed  count\n",
              "0 2011-01-01  2011   Jan  weekend   0.160446    985\n",
              "1 2011-01-02  2011   Jan  weekend   0.248539    801\n",
              "2 2011-01-03  2011   Jan  weekday   0.248309   1349\n",
              "3 2011-01-04  2011   Jan  weekday   0.160296   1562\n",
              "4 2011-01-05  2011   Jan  weekday   0.186900   1600"
            ]
          },
          "execution_count": 358,
          "metadata": {},
          "output_type": "execute_result"
        }
      ],
      "source": [
        "df_2011 = day_df[day_df['year'] == '2011']\n",
        "df_2011.head()"
      ]
    },
    {
      "cell_type": "markdown",
      "metadata": {},
      "source": [
        "Hal pertama yang dilakukan adalah membagi DataFrame menjadi dua bagian yaitu penyewaan sepeda pada tahun 2011 dan penyewaan sepeda pada tahun 2012."
      ]
    },
    {
      "cell_type": "markdown",
      "metadata": {},
      "source": [
        "#### Mencari Jumlah Penyewa Tiap Bulan pada Tahun 2012 dan 2011"
      ]
    },
    {
      "cell_type": "code",
      "execution_count": 359,
      "metadata": {
        "id": "e9CQCZjk8DC2"
      },
      "outputs": [
        {
          "name": "stderr",
          "output_type": "stream",
          "text": [
            "C:\\Users\\Asus\\AppData\\Local\\Temp\\ipykernel_3904\\611101287.py:1: FutureWarning: The default of observed=False is deprecated and will be changed to True in a future version of pandas. Pass observed=False to retain current behavior or observed=True to adopt the future default and silence this warning.\n",
            "  monthly_rentals_2012 = df_2012.groupby('month')['count'].sum().reindex([\n"
          ]
        },
        {
          "data": {
            "text/plain": [
              "month\n",
              "Jan     96744\n",
              "Feb    103137\n",
              "Mar    164875\n",
              "Apr    174224\n",
              "May    195865\n",
              "Jun    202830\n",
              "Jul    203607\n",
              "Aug    214503\n",
              "Sep    218573\n",
              "Oct    198841\n",
              "Nov    152664\n",
              "Dec    123713\n",
              "Name: count, dtype: int64"
            ]
          },
          "execution_count": 359,
          "metadata": {},
          "output_type": "execute_result"
        }
      ],
      "source": [
        "monthly_rentals_2012 = df_2012.groupby('month')['count'].sum().reindex([\n",
        "    'Jan', 'Feb', 'Mar', 'Apr', 'May', 'Jun', \n",
        "    'Jul', 'Aug', 'Sep', 'Oct', 'Nov', 'Dec'\n",
        "])\n",
        "\n",
        "monthly_rentals_2012.head(12)"
      ]
    },
    {
      "cell_type": "code",
      "execution_count": 360,
      "metadata": {},
      "outputs": [
        {
          "name": "stderr",
          "output_type": "stream",
          "text": [
            "C:\\Users\\Asus\\AppData\\Local\\Temp\\ipykernel_3904\\752913559.py:1: FutureWarning: The default of observed=False is deprecated and will be changed to True in a future version of pandas. Pass observed=False to retain current behavior or observed=True to adopt the future default and silence this warning.\n",
            "  monthly_rentals_2011 = df_2011.groupby('month')['count'].sum().reindex([\n"
          ]
        },
        {
          "data": {
            "text/plain": [
              "month\n",
              "Jan     38189\n",
              "Feb     48215\n",
              "Mar     64045\n",
              "Apr     94870\n",
              "May    135821\n",
              "Jun    143512\n",
              "Jul    141341\n",
              "Aug    136691\n",
              "Sep    127418\n",
              "Oct    123511\n",
              "Nov    102167\n",
              "Dec     87323\n",
              "Name: count, dtype: int64"
            ]
          },
          "execution_count": 360,
          "metadata": {},
          "output_type": "execute_result"
        }
      ],
      "source": [
        "monthly_rentals_2011 = df_2011.groupby('month')['count'].sum().reindex([\n",
        "    'Jan', 'Feb', 'Mar', 'Apr', 'May', 'Jun', \n",
        "    'Jul', 'Aug', 'Sep', 'Oct', 'Nov', 'Dec'\n",
        "])\n",
        "\n",
        "monthly_rentals_2011.head(12)"
      ]
    },
    {
      "cell_type": "markdown",
      "metadata": {
        "id": "th_Lzl2Fkj9O"
      },
      "source": [
        "Dari output tersebut diketahui persebaran dari pelanggan tiap bulannya pada tahun 2012. Bisa dilihat apabila terjadi peningkatan penyewa sepeda dari bulan Januari sampai bulan September, kemudian kembali turun sampai bulan Desember. Dimana penyewa terbanyak ada pada bulan September, sedangkan penyewa paling sedikit ada pada bulan Januari.\n",
        "\n",
        "Sedangkan untuk tren pelanggan tiap bulan pada tahun 2011 juga terjadi peningkatan penyewa sepeda dari bulan Januari sampai bulan Juni, kemudian turun secara perlahan sampai bulan Desember. Penyewa terbanyak tahun 2011 ada pada bulan Juni, sedangkan paling sedikit pada bulan Januari.\n",
        "\n",
        "Keduanya memiliki tren kenaikan yang cukup signifikan dari bulan Januari hingga Juni di kedua tahun. Namun, setelah Juni, pola mulai berbeda. Tahun 2011 setelah puncaknya di Juni, terjadi penurunan yang cukup landai hingga akhir tahun. Sedangkan tahun 2012 tetap naik hingga puncaknya terjadi di September, kemudian menurun hingga akhir tahun dengan penurunan yang lebih tajam dibandingkan tahun 2011."
      ]
    },
    {
      "cell_type": "markdown",
      "metadata": {},
      "source": [
        "### Eksplorasi Pertanyaan 2"
      ]
    },
    {
      "cell_type": "markdown",
      "metadata": {},
      "source": [
        "#### Membuat DataFrame Kecepatan Angin dan Penyewa pada Tahun 2011"
      ]
    },
    {
      "cell_type": "code",
      "execution_count": 361,
      "metadata": {},
      "outputs": [
        {
          "data": {
            "text/html": [
              "<div>\n",
              "<style scoped>\n",
              "    .dataframe tbody tr th:only-of-type {\n",
              "        vertical-align: middle;\n",
              "    }\n",
              "\n",
              "    .dataframe tbody tr th {\n",
              "        vertical-align: top;\n",
              "    }\n",
              "\n",
              "    .dataframe thead th {\n",
              "        text-align: right;\n",
              "    }\n",
              "</style>\n",
              "<table border=\"1\" class=\"dataframe\">\n",
              "  <thead>\n",
              "    <tr style=\"text-align: right;\">\n",
              "      <th></th>\n",
              "      <th>windspeed</th>\n",
              "      <th>count</th>\n",
              "    </tr>\n",
              "  </thead>\n",
              "  <tbody>\n",
              "    <tr>\n",
              "      <th>0</th>\n",
              "      <td>0.160446</td>\n",
              "      <td>985</td>\n",
              "    </tr>\n",
              "    <tr>\n",
              "      <th>1</th>\n",
              "      <td>0.248539</td>\n",
              "      <td>801</td>\n",
              "    </tr>\n",
              "    <tr>\n",
              "      <th>2</th>\n",
              "      <td>0.248309</td>\n",
              "      <td>1349</td>\n",
              "    </tr>\n",
              "    <tr>\n",
              "      <th>3</th>\n",
              "      <td>0.160296</td>\n",
              "      <td>1562</td>\n",
              "    </tr>\n",
              "    <tr>\n",
              "      <th>4</th>\n",
              "      <td>0.186900</td>\n",
              "      <td>1600</td>\n",
              "    </tr>\n",
              "    <tr>\n",
              "      <th>...</th>\n",
              "      <td>...</td>\n",
              "      <td>...</td>\n",
              "    </tr>\n",
              "    <tr>\n",
              "      <th>360</th>\n",
              "      <td>0.188450</td>\n",
              "      <td>1162</td>\n",
              "    </tr>\n",
              "    <tr>\n",
              "      <th>361</th>\n",
              "      <td>0.293961</td>\n",
              "      <td>2302</td>\n",
              "    </tr>\n",
              "    <tr>\n",
              "      <th>362</th>\n",
              "      <td>0.119412</td>\n",
              "      <td>2423</td>\n",
              "    </tr>\n",
              "    <tr>\n",
              "      <th>363</th>\n",
              "      <td>0.134337</td>\n",
              "      <td>2999</td>\n",
              "    </tr>\n",
              "    <tr>\n",
              "      <th>364</th>\n",
              "      <td>0.220154</td>\n",
              "      <td>2485</td>\n",
              "    </tr>\n",
              "  </tbody>\n",
              "</table>\n",
              "<p>365 rows × 2 columns</p>\n",
              "</div>"
            ],
            "text/plain": [
              "     windspeed  count\n",
              "0     0.160446    985\n",
              "1     0.248539    801\n",
              "2     0.248309   1349\n",
              "3     0.160296   1562\n",
              "4     0.186900   1600\n",
              "..         ...    ...\n",
              "360   0.188450   1162\n",
              "361   0.293961   2302\n",
              "362   0.119412   2423\n",
              "363   0.134337   2999\n",
              "364   0.220154   2485\n",
              "\n",
              "[365 rows x 2 columns]"
            ]
          },
          "execution_count": 361,
          "metadata": {},
          "output_type": "execute_result"
        }
      ],
      "source": [
        "numeric_columns = df_2011[['windspeed', 'count']]\n",
        "numeric_columns.head(400)"
      ]
    },
    {
      "cell_type": "markdown",
      "metadata": {},
      "source": [
        "Hal ini dilakukan agar dapat menghitung korelasi antara kecepatan angin dengan jumlah penyewa sepeda pada tahun 2011 menggunakan correlation matrix."
      ]
    },
    {
      "cell_type": "markdown",
      "metadata": {},
      "source": [
        "#### Mencari Korelasi"
      ]
    },
    {
      "cell_type": "code",
      "execution_count": 362,
      "metadata": {},
      "outputs": [
        {
          "name": "stdout",
          "output_type": "stream",
          "text": [
            "Matriks Korelasi:\n",
            "           windspeed  count\n",
            "windspeed      1.000 -0.278\n",
            "count         -0.278  1.000\n"
          ]
        }
      ],
      "source": [
        "correlation_matrix = numeric_columns.corr()\n",
        "\n",
        "print(\"Matriks Korelasi:\")\n",
        "print(correlation_matrix)"
      ]
    },
    {
      "cell_type": "markdown",
      "metadata": {},
      "source": [
        "Dari hasil tersebut dapat disimpulkan bahwa tidak ada hubungan linear yang signifikan antara kecepatan angin dan jumlah penyewa sepeda. Hal tersebut dikarenakan ilai korelasi yang mendekati 0, yang menunjukkan bahwa perubahan pada satu variabel tidak secara langsung menyebabkan perubahan yang signifikan pada variabel lainnya."
      ]
    },
    {
      "cell_type": "markdown",
      "metadata": {},
      "source": [
        "### Eksplorasi Pertanyaan 3"
      ]
    },
    {
      "cell_type": "markdown",
      "metadata": {},
      "source": [
        "#### Membuat DataFrame Bulan Mei - Juli 2012"
      ]
    },
    {
      "cell_type": "code",
      "execution_count": 363,
      "metadata": {},
      "outputs": [
        {
          "data": {
            "text/html": [
              "<div>\n",
              "<style scoped>\n",
              "    .dataframe tbody tr th:only-of-type {\n",
              "        vertical-align: middle;\n",
              "    }\n",
              "\n",
              "    .dataframe tbody tr th {\n",
              "        vertical-align: top;\n",
              "    }\n",
              "\n",
              "    .dataframe thead th {\n",
              "        text-align: right;\n",
              "    }\n",
              "</style>\n",
              "<table border=\"1\" class=\"dataframe\">\n",
              "  <thead>\n",
              "    <tr style=\"text-align: right;\">\n",
              "      <th></th>\n",
              "      <th>dateday</th>\n",
              "      <th>year</th>\n",
              "      <th>month</th>\n",
              "      <th>weekday</th>\n",
              "      <th>windspeed</th>\n",
              "      <th>count</th>\n",
              "    </tr>\n",
              "  </thead>\n",
              "  <tbody>\n",
              "    <tr>\n",
              "      <th>486</th>\n",
              "      <td>2012-05-01</td>\n",
              "      <td>2012</td>\n",
              "      <td>May</td>\n",
              "      <td>weekday</td>\n",
              "      <td>0.156096</td>\n",
              "      <td>5740</td>\n",
              "    </tr>\n",
              "    <tr>\n",
              "      <th>487</th>\n",
              "      <td>2012-05-02</td>\n",
              "      <td>2012</td>\n",
              "      <td>May</td>\n",
              "      <td>weekday</td>\n",
              "      <td>0.138058</td>\n",
              "      <td>6169</td>\n",
              "    </tr>\n",
              "    <tr>\n",
              "      <th>488</th>\n",
              "      <td>2012-05-03</td>\n",
              "      <td>2012</td>\n",
              "      <td>May</td>\n",
              "      <td>weekday</td>\n",
              "      <td>0.133696</td>\n",
              "      <td>6421</td>\n",
              "    </tr>\n",
              "    <tr>\n",
              "      <th>489</th>\n",
              "      <td>2012-05-04</td>\n",
              "      <td>2012</td>\n",
              "      <td>May</td>\n",
              "      <td>weekday</td>\n",
              "      <td>0.162938</td>\n",
              "      <td>6296</td>\n",
              "    </tr>\n",
              "    <tr>\n",
              "      <th>490</th>\n",
              "      <td>2012-05-05</td>\n",
              "      <td>2012</td>\n",
              "      <td>May</td>\n",
              "      <td>weekend</td>\n",
              "      <td>0.152992</td>\n",
              "      <td>6883</td>\n",
              "    </tr>\n",
              "    <tr>\n",
              "      <th>...</th>\n",
              "      <td>...</td>\n",
              "      <td>...</td>\n",
              "      <td>...</td>\n",
              "      <td>...</td>\n",
              "      <td>...</td>\n",
              "      <td>...</td>\n",
              "    </tr>\n",
              "    <tr>\n",
              "      <th>634</th>\n",
              "      <td>2012-09-26</td>\n",
              "      <td>2012</td>\n",
              "      <td>Sep</td>\n",
              "      <td>weekday</td>\n",
              "      <td>0.244400</td>\n",
              "      <td>7733</td>\n",
              "    </tr>\n",
              "    <tr>\n",
              "      <th>635</th>\n",
              "      <td>2012-09-27</td>\n",
              "      <td>2012</td>\n",
              "      <td>Sep</td>\n",
              "      <td>weekday</td>\n",
              "      <td>0.134342</td>\n",
              "      <td>7393</td>\n",
              "    </tr>\n",
              "    <tr>\n",
              "      <th>636</th>\n",
              "      <td>2012-09-28</td>\n",
              "      <td>2012</td>\n",
              "      <td>Sep</td>\n",
              "      <td>weekday</td>\n",
              "      <td>0.164179</td>\n",
              "      <td>7415</td>\n",
              "    </tr>\n",
              "    <tr>\n",
              "      <th>637</th>\n",
              "      <td>2012-09-29</td>\n",
              "      <td>2012</td>\n",
              "      <td>Sep</td>\n",
              "      <td>weekend</td>\n",
              "      <td>0.227604</td>\n",
              "      <td>8555</td>\n",
              "    </tr>\n",
              "    <tr>\n",
              "      <th>638</th>\n",
              "      <td>2012-09-30</td>\n",
              "      <td>2012</td>\n",
              "      <td>Sep</td>\n",
              "      <td>weekend</td>\n",
              "      <td>0.134958</td>\n",
              "      <td>6889</td>\n",
              "    </tr>\n",
              "  </tbody>\n",
              "</table>\n",
              "<p>153 rows × 6 columns</p>\n",
              "</div>"
            ],
            "text/plain": [
              "       dateday  year month  weekday  windspeed  count\n",
              "486 2012-05-01  2012   May  weekday   0.156096   5740\n",
              "487 2012-05-02  2012   May  weekday   0.138058   6169\n",
              "488 2012-05-03  2012   May  weekday   0.133696   6421\n",
              "489 2012-05-04  2012   May  weekday   0.162938   6296\n",
              "490 2012-05-05  2012   May  weekend   0.152992   6883\n",
              "..         ...   ...   ...      ...        ...    ...\n",
              "634 2012-09-26  2012   Sep  weekday   0.244400   7733\n",
              "635 2012-09-27  2012   Sep  weekday   0.134342   7393\n",
              "636 2012-09-28  2012   Sep  weekday   0.164179   7415\n",
              "637 2012-09-29  2012   Sep  weekend   0.227604   8555\n",
              "638 2012-09-30  2012   Sep  weekend   0.134958   6889\n",
              "\n",
              "[153 rows x 6 columns]"
            ]
          },
          "execution_count": 363,
          "metadata": {},
          "output_type": "execute_result"
        }
      ],
      "source": [
        "df_may_jul_2012 = df_2012.query(\"month in ['May', 'Jun', 'Jul', 'Aug', 'Sep']\")\n",
        "df_may_jul_2012.head(160)"
      ]
    },
    {
      "cell_type": "markdown",
      "metadata": {},
      "source": [
        "Hal pertama yang dilakukan adalah membagi DataFrame agar hanya memiliki data dari bulan Mei sampai September."
      ]
    },
    {
      "cell_type": "markdown",
      "metadata": {},
      "source": [
        "### Membuat Pivot Table yang memuat Data Pengunjung Setiap Bulan pada Weekday dan Weekend"
      ]
    },
    {
      "cell_type": "code",
      "execution_count": 364,
      "metadata": {},
      "outputs": [
        {
          "name": "stderr",
          "output_type": "stream",
          "text": [
            "C:\\Users\\Asus\\AppData\\Local\\Temp\\ipykernel_3904\\1655242258.py:1: FutureWarning: The default of observed=False is deprecated and will be changed to True in a future version of pandas. Pass observed=False to retain current behavior or observed=True to adopt the future default and silence this warning.\n",
            "  grouped_data_df = df_may_jul_2012.groupby(['month', 'weekday'])['count'].mean().loc[pd.IndexSlice[['May', 'Jun', 'Jul', 'Aug', 'Sep'], :]].reset_index()\n"
          ]
        },
        {
          "data": {
            "text/html": [
              "<div>\n",
              "<style scoped>\n",
              "    .dataframe tbody tr th:only-of-type {\n",
              "        vertical-align: middle;\n",
              "    }\n",
              "\n",
              "    .dataframe tbody tr th {\n",
              "        vertical-align: top;\n",
              "    }\n",
              "\n",
              "    .dataframe thead th {\n",
              "        text-align: right;\n",
              "    }\n",
              "</style>\n",
              "<table border=\"1\" class=\"dataframe\">\n",
              "  <thead>\n",
              "    <tr style=\"text-align: right;\">\n",
              "      <th></th>\n",
              "      <th>month</th>\n",
              "      <th>weekday</th>\n",
              "      <th>count</th>\n",
              "    </tr>\n",
              "  </thead>\n",
              "  <tbody>\n",
              "    <tr>\n",
              "      <th>0</th>\n",
              "      <td>May</td>\n",
              "      <td>weekday</td>\n",
              "      <td>6109.826087</td>\n",
              "    </tr>\n",
              "    <tr>\n",
              "      <th>1</th>\n",
              "      <td>May</td>\n",
              "      <td>weekend</td>\n",
              "      <td>6917.375000</td>\n",
              "    </tr>\n",
              "    <tr>\n",
              "      <th>2</th>\n",
              "      <td>Jun</td>\n",
              "      <td>weekday</td>\n",
              "      <td>6583.666667</td>\n",
              "    </tr>\n",
              "    <tr>\n",
              "      <th>3</th>\n",
              "      <td>Jun</td>\n",
              "      <td>weekend</td>\n",
              "      <td>7174.777778</td>\n",
              "    </tr>\n",
              "    <tr>\n",
              "      <th>4</th>\n",
              "      <td>Jul</td>\n",
              "      <td>weekday</td>\n",
              "      <td>6836.954545</td>\n",
              "    </tr>\n",
              "    <tr>\n",
              "      <th>5</th>\n",
              "      <td>Jul</td>\n",
              "      <td>weekend</td>\n",
              "      <td>5910.444444</td>\n",
              "    </tr>\n",
              "    <tr>\n",
              "      <th>6</th>\n",
              "      <td>Aug</td>\n",
              "      <td>weekday</td>\n",
              "      <td>7202.173913</td>\n",
              "    </tr>\n",
              "    <tr>\n",
              "      <th>7</th>\n",
              "      <td>Aug</td>\n",
              "      <td>weekend</td>\n",
              "      <td>6106.625000</td>\n",
              "    </tr>\n",
              "    <tr>\n",
              "      <th>8</th>\n",
              "      <td>Sep</td>\n",
              "      <td>weekday</td>\n",
              "      <td>7231.350000</td>\n",
              "    </tr>\n",
              "    <tr>\n",
              "      <th>9</th>\n",
              "      <td>Sep</td>\n",
              "      <td>weekend</td>\n",
              "      <td>7394.600000</td>\n",
              "    </tr>\n",
              "  </tbody>\n",
              "</table>\n",
              "</div>"
            ],
            "text/plain": [
              "  month  weekday        count\n",
              "0   May  weekday  6109.826087\n",
              "1   May  weekend  6917.375000\n",
              "2   Jun  weekday  6583.666667\n",
              "3   Jun  weekend  7174.777778\n",
              "4   Jul  weekday  6836.954545\n",
              "5   Jul  weekend  5910.444444\n",
              "6   Aug  weekday  7202.173913\n",
              "7   Aug  weekend  6106.625000\n",
              "8   Sep  weekday  7231.350000\n",
              "9   Sep  weekend  7394.600000"
            ]
          },
          "execution_count": 364,
          "metadata": {},
          "output_type": "execute_result"
        }
      ],
      "source": [
        "grouped_data_df = df_may_jul_2012.groupby(['month', 'weekday'])['count'].mean().loc[pd.IndexSlice[['May', 'Jun', 'Jul', 'Aug', 'Sep'], :]].reset_index()\n",
        "grouped_data_df.head(10)"
      ]
    },
    {
      "cell_type": "code",
      "execution_count": 365,
      "metadata": {},
      "outputs": [
        {
          "name": "stdout",
          "output_type": "stream",
          "text": [
            "  month  weekday        count\n",
            "0   May  weekday  6109.826087\n",
            "1   May  weekend  6917.375000\n",
            "2   Jun  weekday  6583.666667\n",
            "3   Jun  weekend  7174.777778\n",
            "4   Jul  weekday  6836.954545\n",
            "5   Jul  weekend  5910.444444\n",
            "6   Aug  weekday  7202.173913\n",
            "7   Aug  weekend  6106.625000\n",
            "8   Sep  weekday  7231.350000\n",
            "9   Sep  weekend  7394.600000\n"
          ]
        }
      ],
      "source": [
        "print(grouped_data_df)"
      ]
    },
    {
      "cell_type": "markdown",
      "metadata": {},
      "source": [
        "Dari pivot table di atas terlihat jika rata rata penyewa pada weekend lebih banyak dibandingkan weekday pada bulan Mei, Juni, dan September. Sedangkan pada bulan Juli dan Agustus lebih banyak rata rata penyewa pada weekday dibandingkan weekend."
      ]
    },
    {
      "cell_type": "markdown",
      "metadata": {
        "id": "zsyZjqak8DC2"
      },
      "source": [
        "## Visualization & Explanatory Analysis"
      ]
    },
    {
      "cell_type": "markdown",
      "metadata": {
        "id": "HZxOiQ6n8DC2"
      },
      "source": [
        "### Pertanyaan 1:"
      ]
    },
    {
      "cell_type": "code",
      "execution_count": 366,
      "metadata": {
        "id": "1swJUdAD8DC2"
      },
      "outputs": [
        {
          "data": {
            "image/png": "[encoded data removed]",
            "text/plain": [
              "<Figure size 1000x600 with 1 Axes>"
            ]
          },
          "metadata": {},
          "output_type": "display_data"
        }
      ],
      "source": [
        "plt.figure(figsize=(10, 6))\n",
        "plt.plot(monthly_rentals_2012.index, monthly_rentals_2012, marker='o', label='2012', color='green')\n",
        "plt.plot(monthly_rentals_2011.index, monthly_rentals_2011, marker='o', label='2011', color='blue')\n",
        "\n",
        "# Menambahkan judul dan label\n",
        "plt.title('Penyewaan Sepeda 2011 vs 2012', fontsize=16)\n",
        "plt.legend()\n",
        "plt.grid(True)\n",
        "\n",
        "plt.tight_layout()\n",
        "plt.show()"
      ]
    },
    {
      "cell_type": "markdown",
      "metadata": {},
      "source": [
        "Dari visualisasi line chart tersebut, dapat ditarik kesimpulan jika tren dari tahun 2011 dan 2012 cukup mirip, dimana awal tahun mengalami penyewaan yang rendah kemudian mengalami peningkatan sampai pertengahan bulan, puncak pada tahun 2011 yaitu pada bulan Juni, sedangkan pada tahun 2012 pada bulan September. Setelahnya keduanya sama-sama mengalami penurunan. Kemudian terlihat juga peningkatan yang cukup signifikan dari frekuensi penyewaan sepeda dimana kurang lebih meningkat sebanyak dua kali lipat."
      ]
    },
    {
      "cell_type": "markdown",
      "metadata": {
        "id": "DgHI7CiU8DC2"
      },
      "source": [
        "### Pertanyaan 2:"
      ]
    },
    {
      "cell_type": "code",
      "execution_count": 367,
      "metadata": {
        "id": "Go0lCsvO8DC2"
      },
      "outputs": [
        {
          "name": "stderr",
          "output_type": "stream",
          "text": [
            "C:\\Users\\Asus\\AppData\\Local\\Temp\\ipykernel_3904\\3669299361.py:6: UserWarning: You passed a edgecolor/edgecolors ('k') for an unfilled marker ('x').  Matplotlib is ignoring the edgecolor in favor of the facecolor.  This behavior may change in the future.\n",
            "  plt.scatter(windspeed, count, alpha=0.6, color='blue', edgecolors='k', label='Data Points', marker='x')\n"
          ]
        },
        {
          "data": {
            "image/png": "[encoded data removed]",
            "text/plain": [
              "<Figure size 1000x600 with 1 Axes>"
            ]
          },
          "metadata": {},
          "output_type": "display_data"
        }
      ],
      "source": [
        "windspeed = df_2011['windspeed']\n",
        "count = df_2011['count']\n",
        "\n",
        "# Visualisasi scatter plot\n",
        "plt.figure(figsize=(10, 6))\n",
        "plt.scatter(windspeed, count, alpha=0.6, color='blue', edgecolors='k',  marker='x')\n",
        "\n",
        "# Menambahkan judul dan label sumbu\n",
        "plt.title('Pengaruh Kecepatan Angin Terhadap Penyewaan', fontsize=16)\n",
        "plt.xlabel('')\n",
        "plt.ylabel('')\n",
        "plt.grid(True)\n",
        "\n",
        "# Menampilkan visualisasi\n",
        "plt.tight_layout()\n",
        "plt.show()"
      ]
    },
    {
      "cell_type": "markdown",
      "metadata": {},
      "source": [
        "Dalam visualisasi dengan scatter di atas, terlihat dengan jelas jika titik-titik data cenderung sedikit turun, namun masih tersebar dan masih belum  membentuk pola yang jelas. Oleh karena itu dapat disimpulkan jika tidak ada hubungannya antara kecepatan angin dengan jumlah penyewaan sepeda."
      ]
    },
    {
      "cell_type": "markdown",
      "metadata": {},
      "source": [
        "### Pertanyaan 3:"
      ]
    },
    {
      "cell_type": "code",
      "execution_count": 368,
      "metadata": {},
      "outputs": [
        {
          "data": {
            "image/png": "[encoded data removed]",
            "text/plain": [
              "<Figure size 1000x600 with 1 Axes>"
            ]
          },
          "metadata": {},
          "output_type": "display_data"
        }
      ],
      "source": [
        "# Buat bar chart dengan customisasi\n",
        "plt.figure(figsize=(10, 6))\n",
        "sns.barplot(x='weekday', y='count', hue='month', data=grouped_data_df, palette='Set2', hue_order=['May', 'Jun', 'Jul', 'Aug', 'Sep'])\n",
        "\n",
        "# Judul dan label\n",
        "plt.title('Perbandingan Sewa Sepeda Weekday dan Weekend (Mei-September 2012)', fontsize=16)\n",
        "plt.ylabel('')\n",
        "plt.xlabel('')\n",
        "plt.legend(title='Bulan', loc='upper right')\n",
        "plt.grid(axis='y')\n",
        "\n",
        "# Tampilkan grafik\n",
        "plt.tight_layout()\n",
        "plt.show()"
      ]
    },
    {
      "cell_type": "markdown",
      "metadata": {
        "id": "_0-36BDLklRg"
      },
      "source": [
        "Dari visualisasi dengan clustered bar chart di atas terlihat bahwa secara umum penyewaan sepeda lebih tinggi pada weekend dibandingkan weekday, terutama di bulan Mei, Juni, dan September. Namun, di bulan Juli dan Agustus terjadi pola yang berbeda, di mana penyewaan sepeda pada weekday lebih tinggi daripada weekend. Selain itu, terdapat peningkatan bertahap dalam penyewaan sepeda dari Mei ke Juni, baik pada weekday maupun weekend."
      ]
    },
    {
      "cell_type": "markdown",
      "metadata": {
        "id": "_WeHlCeX8DC2"
      },
      "source": [
        "## Conclusion"
      ]
    },
    {
      "cell_type": "markdown",
      "metadata": {
        "id": "ZTcyR48Y8DC2"
      },
      "source": [
        "- Conclusion pertanyaan 1: Penyewaan sepeda pada tahun 2012 secara umum mengalami peningkatan dibandingkan dengan tahun 2011. Setiap bulannya, terlihat bahwa jumlah penyewaan sepeda lebih tinggi di hampir semua bulan pada tahun 2012. Tren ini juga menunjukkan pola yang mirip, di mana pada pertengahan bulan terjadi kenaikan signifikan, terutama di bulan Juni. Misalnya, di bulan Juni 2012, jumlah penyewaan sepeda meningkat dibandingkan dengan Juni 2011, menunjukkan adanya tren kenaikan dalam popularitas penggunaan sepeda di tahun 2012 dibandingkan tahun sebelumnya.\n",
        "\n",
        "- Conclusion pertanyaan 2: Berdasarkan analisis korelasi antara kecepatan angin (windspeed) dan jumlah penyewaan sepeda (count) pada tahun 2011, ditemukan korelasi yang lemah dan negatif. Ini menunjukkan bahwa kecepatan angin tidak memiliki pengaruh yang signifikan terhadap penyewaan sepeda. Dengan kata lain, meskipun ada sedikit penurunan jumlah penyewaan pada hari-hari dengan kecepatan angin lebih tinggi, pengaruhnya sangat kecil.\n",
        "\n",
        "- Conclusion pertanyaan 3: Secara umum, penyewaan sepeda pada weekend cenderung lebih tinggi dibandingkan weekday pada bulan Mei hingga September 2012, kecuali pada bulan Juli dan Agustus. Pada bulan Mei, Juni, dan September penyewaan sepeda saat weekend lebih banyak, sedangkan di bulan Juli dan Agustus, penyewaan sepeda pada weekday justru lebih tinggi dibandingkan weekend. Hal ini menunjukkan fluktuasi dalam pola penyewaan sepeda berdasarkan hari dalam seminggu."
      ]
    }
  ],
  "metadata": {
    "colab": {
      "provenance": []
    },
    "kernelspec": {
      "display_name": "Python 3",
      "language": "python",
      "name": "python3"
    },
    "language_info": {
      "codemirror_mode": {
        "name": "ipython",
        "version": 3
      },
      "file_extension": ".py",
      "mimetype": "text/x-python",
      "name": "python",
      "nbconvert_exporter": "python",
      "pygments_lexer": "ipython3",
      "version": "3.12.3"
    },
    "orig_nbformat": 4,
    "vscode": {
      "interpreter": {
        "hash": "972b3bf27e332e87b5379f2791f6ef9dfc79c71018c370b0d7423235e20fe4d7"
      }
    }
  },
  "nbformat": 4,
  "nbformat_minor": 0
}
